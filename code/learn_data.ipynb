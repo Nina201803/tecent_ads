{
 "cells": [
  {
   "cell_type": "code",
   "execution_count": 2,
   "metadata": {
    "collapsed": true
   },
   "outputs": [],
   "source": [
    "import pandas as pd"
   ]
  },
  {
   "cell_type": "code",
   "execution_count": 3,
   "metadata": {
    "collapsed": true
   },
   "outputs": [],
   "source": [
    "input = '../data/preliminary_contest_data/adFeature.csv'"
   ]
  },
  {
   "cell_type": "code",
   "execution_count": 4,
   "metadata": {
    "collapsed": true
   },
   "outputs": [],
   "source": [
    "df = pd.read_csv(input)"
   ]
  },
  {
   "cell_type": "code",
   "execution_count": 9,
   "metadata": {},
   "outputs": [
    {
     "data": {
      "text/html": [
       "<div>\n",
       "<style scoped>\n",
       "    .dataframe tbody tr th:only-of-type {\n",
       "        vertical-align: middle;\n",
       "    }\n",
       "\n",
       "    .dataframe tbody tr th {\n",
       "        vertical-align: top;\n",
       "    }\n",
       "\n",
       "    .dataframe thead th {\n",
       "        text-align: right;\n",
       "    }\n",
       "</style>\n",
       "<table border=\"1\" class=\"dataframe\">\n",
       "  <thead>\n",
       "    <tr style=\"text-align: right;\">\n",
       "      <th></th>\n",
       "      <th>aid</th>\n",
       "      <th>advertiserId</th>\n",
       "      <th>campaignId</th>\n",
       "      <th>creativeId</th>\n",
       "      <th>creativeSize</th>\n",
       "      <th>adCategoryId</th>\n",
       "      <th>productId</th>\n",
       "      <th>productType</th>\n",
       "    </tr>\n",
       "  </thead>\n",
       "  <tbody>\n",
       "    <tr>\n",
       "      <th>0</th>\n",
       "      <td>177</td>\n",
       "      <td>8203</td>\n",
       "      <td>76104</td>\n",
       "      <td>1500666</td>\n",
       "      <td>59</td>\n",
       "      <td>282</td>\n",
       "      <td>0</td>\n",
       "      <td>6</td>\n",
       "    </tr>\n",
       "    <tr>\n",
       "      <th>1</th>\n",
       "      <td>2050</td>\n",
       "      <td>19441</td>\n",
       "      <td>178687</td>\n",
       "      <td>245165</td>\n",
       "      <td>53</td>\n",
       "      <td>1</td>\n",
       "      <td>0</td>\n",
       "      <td>6</td>\n",
       "    </tr>\n",
       "    <tr>\n",
       "      <th>2</th>\n",
       "      <td>1716</td>\n",
       "      <td>5552</td>\n",
       "      <td>158101</td>\n",
       "      <td>1080850</td>\n",
       "      <td>35</td>\n",
       "      <td>27</td>\n",
       "      <td>113</td>\n",
       "      <td>9</td>\n",
       "    </tr>\n",
       "    <tr>\n",
       "      <th>3</th>\n",
       "      <td>336</td>\n",
       "      <td>370</td>\n",
       "      <td>4833</td>\n",
       "      <td>119845</td>\n",
       "      <td>22</td>\n",
       "      <td>67</td>\n",
       "      <td>113</td>\n",
       "      <td>9</td>\n",
       "    </tr>\n",
       "    <tr>\n",
       "      <th>4</th>\n",
       "      <td>671</td>\n",
       "      <td>45705</td>\n",
       "      <td>352827</td>\n",
       "      <td>660519</td>\n",
       "      <td>42</td>\n",
       "      <td>67</td>\n",
       "      <td>0</td>\n",
       "      <td>4</td>\n",
       "    </tr>\n",
       "  </tbody>\n",
       "</table>\n",
       "</div>"
      ],
      "text/plain": [
       "    aid  advertiserId  campaignId  creativeId  creativeSize  adCategoryId  \\\n",
       "0   177          8203       76104     1500666            59           282   \n",
       "1  2050         19441      178687      245165            53             1   \n",
       "2  1716          5552      158101     1080850            35            27   \n",
       "3   336           370        4833      119845            22            67   \n",
       "4   671         45705      352827      660519            42            67   \n",
       "\n",
       "   productId  productType  \n",
       "0          0            6  \n",
       "1          0            6  \n",
       "2        113            9  \n",
       "3        113            9  \n",
       "4          0            4  "
      ]
     },
     "execution_count": 9,
     "metadata": {},
     "output_type": "execute_result"
    }
   ],
   "source": [
    "df.head()"
   ]
  },
  {
   "cell_type": "code",
   "execution_count": 8,
   "metadata": {},
   "outputs": [
    {
     "name": "stdout",
     "output_type": "stream",
     "text": [
      "(173, 8)\n",
      "(173,)\n",
      "(79,)\n",
      "(138,)\n",
      "(173,)\n",
      "(15,)\n",
      "(40,)\n",
      "(33,)\n",
      "(4,)\n"
     ]
    }
   ],
   "source": [
    "print(df.shape)  # (173, 8)\n",
    "print(df.aid.unique().shape)  # 173\n",
    "print(df.advertiserId.unique().shape)  # 79\n",
    "print(df.campaignId.unique().shape)  # 138\n",
    "print(df.creativeId.unique().shape)  #  173\n",
    "print(df.creativeSize.unique().shape) #15\n",
    "print(df.adCategoryId.unique().shape) # 40\n",
    "print(df.productId.unique().shape) # 33\n",
    "print(df.productType.unique().shape) # 4"
   ]
  },
  {
   "cell_type": "code",
   "execution_count": 13,
   "metadata": {},
   "outputs": [],
   "source": [
    "li = []\n",
    "with open('../data/preliminary_contest_data/small_user_fature.data', 'r') as f:\n",
    "    for line in f:\n",
    "        dic = {}\n",
    "        sp = line.split(\"|\")\n",
    "        for s in sp:\n",
    "            ll = s.split(\" \")\n",
    "            dic[ll[0]] = ll[1:]\n",
    "        li.append(dic)"
   ]
  },
  {
   "cell_type": "code",
   "execution_count": 14,
   "metadata": {},
   "outputs": [],
   "source": [
    "df_fea = pd.DataFrame(li)"
   ]
  },
  {
   "cell_type": "code",
   "execution_count": 15,
   "metadata": {},
   "outputs": [
    {
     "data": {
      "text/plain": [
       "(10000, 24)"
      ]
     },
     "execution_count": 15,
     "metadata": {},
     "output_type": "execute_result"
    }
   ],
   "source": [
    "df_fea.shape"
   ]
  },
  {
   "cell_type": "code",
   "execution_count": 16,
   "metadata": {},
   "outputs": [
    {
     "data": {
      "text/html": [
       "<div>\n",
       "<style scoped>\n",
       "    .dataframe tbody tr th:only-of-type {\n",
       "        vertical-align: middle;\n",
       "    }\n",
       "\n",
       "    .dataframe tbody tr th {\n",
       "        vertical-align: top;\n",
       "    }\n",
       "\n",
       "    .dataframe thead th {\n",
       "        text-align: right;\n",
       "    }\n",
       "</style>\n",
       "<table border=\"1\" class=\"dataframe\">\n",
       "  <thead>\n",
       "    <tr style=\"text-align: right;\">\n",
       "      <th></th>\n",
       "      <th>LBS</th>\n",
       "      <th>age</th>\n",
       "      <th>appIdAction</th>\n",
       "      <th>appIdInstall</th>\n",
       "      <th>carrier</th>\n",
       "      <th>consumptionAbility</th>\n",
       "      <th>ct</th>\n",
       "      <th>education</th>\n",
       "      <th>gender</th>\n",
       "      <th>house</th>\n",
       "      <th>...</th>\n",
       "      <th>interest5</th>\n",
       "      <th>kw1</th>\n",
       "      <th>kw2</th>\n",
       "      <th>kw3</th>\n",
       "      <th>marriageStatus</th>\n",
       "      <th>os</th>\n",
       "      <th>topic1</th>\n",
       "      <th>topic2</th>\n",
       "      <th>topic3</th>\n",
       "      <th>uid</th>\n",
       "    </tr>\n",
       "  </thead>\n",
       "  <tbody>\n",
       "    <tr>\n",
       "      <th>0</th>\n",
       "      <td>[950]</td>\n",
       "      <td>[4]</td>\n",
       "      <td>NaN</td>\n",
       "      <td>NaN</td>\n",
       "      <td>[1\\n]</td>\n",
       "      <td>[2]</td>\n",
       "      <td>[3, 1]</td>\n",
       "      <td>[7]</td>\n",
       "      <td>[2]</td>\n",
       "      <td>NaN</td>\n",
       "      <td>...</td>\n",
       "      <td>[52, 100, 72, 131, 116, 11, 71, 12, 8, 113, 28...</td>\n",
       "      <td>[664359, 276966, 734911, 103617, 562294]</td>\n",
       "      <td>[11395, 79112, 115065, 77033, 36176]</td>\n",
       "      <td>NaN</td>\n",
       "      <td>[11]</td>\n",
       "      <td>[2]</td>\n",
       "      <td>[9826, 105, 8525, 5488, 7281]</td>\n",
       "      <td>[9708, 5553, 6745, 7477, 7150]</td>\n",
       "      <td>NaN</td>\n",
       "      <td>[26325489]</td>\n",
       "    </tr>\n",
       "    <tr>\n",
       "      <th>1</th>\n",
       "      <td>[803]</td>\n",
       "      <td>[2]</td>\n",
       "      <td>NaN</td>\n",
       "      <td>NaN</td>\n",
       "      <td>[1\\n]</td>\n",
       "      <td>[1]</td>\n",
       "      <td>[3, 1]</td>\n",
       "      <td>[2]</td>\n",
       "      <td>[1]</td>\n",
       "      <td>NaN</td>\n",
       "      <td>...</td>\n",
       "      <td>NaN</td>\n",
       "      <td>[338851, 361151, 542834, 496283, 229952]</td>\n",
       "      <td>[80263, 39618, 53539, 180, 38163]</td>\n",
       "      <td>NaN</td>\n",
       "      <td>[5, 13]</td>\n",
       "      <td>[1]</td>\n",
       "      <td>[4391, 9140, 5669, 1348, 4388]</td>\n",
       "      <td>[9401, 7724, 1380, 8890, 7153]</td>\n",
       "      <td>NaN</td>\n",
       "      <td>[1184123]</td>\n",
       "    </tr>\n",
       "    <tr>\n",
       "      <th>2</th>\n",
       "      <td>[927]</td>\n",
       "      <td>[1]</td>\n",
       "      <td>NaN</td>\n",
       "      <td>NaN</td>\n",
       "      <td>[3\\n]</td>\n",
       "      <td>[1]</td>\n",
       "      <td>[3, 1]</td>\n",
       "      <td>[5]</td>\n",
       "      <td>[1]</td>\n",
       "      <td>NaN</td>\n",
       "      <td>...</td>\n",
       "      <td>[77, 72, 80, 116, 101, 13, 1, 109, 8, 50, 6, 4...</td>\n",
       "      <td>[746140, 695808, 126355, 771775, 411511]</td>\n",
       "      <td>[105115, 71378, 41409, 74061, 44005]</td>\n",
       "      <td>NaN</td>\n",
       "      <td>[13, 10]</td>\n",
       "      <td>[1]</td>\n",
       "      <td>[1502, 5488, 9826, 2187, 8088]</td>\n",
       "      <td>[5005, 9154, 2756, 5612, 4209]</td>\n",
       "      <td>NaN</td>\n",
       "      <td>[76072711]</td>\n",
       "    </tr>\n",
       "    <tr>\n",
       "      <th>3</th>\n",
       "      <td>[486]</td>\n",
       "      <td>[4]</td>\n",
       "      <td>NaN</td>\n",
       "      <td>NaN</td>\n",
       "      <td>[3\\n]</td>\n",
       "      <td>[1]</td>\n",
       "      <td>[1, 3]</td>\n",
       "      <td>[7]</td>\n",
       "      <td>[1]</td>\n",
       "      <td>NaN</td>\n",
       "      <td>...</td>\n",
       "      <td>[100, 80, 92, 37, 116, 13, 47, 4, 71, 8, 50, 2...</td>\n",
       "      <td>[283399, 402245, 734509, 654027, 32061]</td>\n",
       "      <td>[74010, 32918, 67882, 116802, 20957]</td>\n",
       "      <td>NaN</td>\n",
       "      <td>[11]</td>\n",
       "      <td>[1, 2]</td>\n",
       "      <td>[1619, 7342, 3064, 9213, 8525]</td>\n",
       "      <td>[810, 2438, 5659, 1844, 9262]</td>\n",
       "      <td>NaN</td>\n",
       "      <td>[63071413]</td>\n",
       "    </tr>\n",
       "    <tr>\n",
       "      <th>4</th>\n",
       "      <td>[112]</td>\n",
       "      <td>[5]</td>\n",
       "      <td>NaN</td>\n",
       "      <td>NaN</td>\n",
       "      <td>[3\\n]</td>\n",
       "      <td>[2]</td>\n",
       "      <td>[3, 1, 4, 2]</td>\n",
       "      <td>[6]</td>\n",
       "      <td>[1]</td>\n",
       "      <td>NaN</td>\n",
       "      <td>...</td>\n",
       "      <td>[131, 116, 13, 8, 6, 132, 42, 9, 59, 18, 58, 6...</td>\n",
       "      <td>[562294, 157603, 589706, 657719, 495672]</td>\n",
       "      <td>[62764, 97803, 89066, 55545, 74061]</td>\n",
       "      <td>NaN</td>\n",
       "      <td>[11]</td>\n",
       "      <td>[1]</td>\n",
       "      <td>[477, 9826, 5808, 644, 2747]</td>\n",
       "      <td>[5483, 2199, 5424, 1511, 7751]</td>\n",
       "      <td>NaN</td>\n",
       "      <td>[81294159]</td>\n",
       "    </tr>\n",
       "  </tbody>\n",
       "</table>\n",
       "<p>5 rows × 24 columns</p>\n",
       "</div>"
      ],
      "text/plain": [
       "     LBS  age appIdAction appIdInstall carrier consumptionAbility  \\\n",
       "0  [950]  [4]         NaN          NaN   [1\\n]                [2]   \n",
       "1  [803]  [2]         NaN          NaN   [1\\n]                [1]   \n",
       "2  [927]  [1]         NaN          NaN   [3\\n]                [1]   \n",
       "3  [486]  [4]         NaN          NaN   [3\\n]                [1]   \n",
       "4  [112]  [5]         NaN          NaN   [3\\n]                [2]   \n",
       "\n",
       "             ct education gender house     ...      \\\n",
       "0        [3, 1]       [7]    [2]   NaN     ...       \n",
       "1        [3, 1]       [2]    [1]   NaN     ...       \n",
       "2        [3, 1]       [5]    [1]   NaN     ...       \n",
       "3        [1, 3]       [7]    [1]   NaN     ...       \n",
       "4  [3, 1, 4, 2]       [6]    [1]   NaN     ...       \n",
       "\n",
       "                                           interest5  \\\n",
       "0  [52, 100, 72, 131, 116, 11, 71, 12, 8, 113, 28...   \n",
       "1                                                NaN   \n",
       "2  [77, 72, 80, 116, 101, 13, 1, 109, 8, 50, 6, 4...   \n",
       "3  [100, 80, 92, 37, 116, 13, 47, 4, 71, 8, 50, 2...   \n",
       "4  [131, 116, 13, 8, 6, 132, 42, 9, 59, 18, 58, 6...   \n",
       "\n",
       "                                        kw1  \\\n",
       "0  [664359, 276966, 734911, 103617, 562294]   \n",
       "1  [338851, 361151, 542834, 496283, 229952]   \n",
       "2  [746140, 695808, 126355, 771775, 411511]   \n",
       "3   [283399, 402245, 734509, 654027, 32061]   \n",
       "4  [562294, 157603, 589706, 657719, 495672]   \n",
       "\n",
       "                                    kw2  kw3 marriageStatus      os  \\\n",
       "0  [11395, 79112, 115065, 77033, 36176]  NaN           [11]     [2]   \n",
       "1     [80263, 39618, 53539, 180, 38163]  NaN        [5, 13]     [1]   \n",
       "2  [105115, 71378, 41409, 74061, 44005]  NaN       [13, 10]     [1]   \n",
       "3  [74010, 32918, 67882, 116802, 20957]  NaN           [11]  [1, 2]   \n",
       "4   [62764, 97803, 89066, 55545, 74061]  NaN           [11]     [1]   \n",
       "\n",
       "                           topic1                          topic2 topic3  \\\n",
       "0   [9826, 105, 8525, 5488, 7281]  [9708, 5553, 6745, 7477, 7150]    NaN   \n",
       "1  [4391, 9140, 5669, 1348, 4388]  [9401, 7724, 1380, 8890, 7153]    NaN   \n",
       "2  [1502, 5488, 9826, 2187, 8088]  [5005, 9154, 2756, 5612, 4209]    NaN   \n",
       "3  [1619, 7342, 3064, 9213, 8525]   [810, 2438, 5659, 1844, 9262]    NaN   \n",
       "4    [477, 9826, 5808, 644, 2747]  [5483, 2199, 5424, 1511, 7751]    NaN   \n",
       "\n",
       "          uid  \n",
       "0  [26325489]  \n",
       "1   [1184123]  \n",
       "2  [76072711]  \n",
       "3  [63071413]  \n",
       "4  [81294159]  \n",
       "\n",
       "[5 rows x 24 columns]"
      ]
     },
     "execution_count": 16,
     "metadata": {},
     "output_type": "execute_result"
    }
   ],
   "source": [
    "df_fea.head()"
   ]
  },
  {
   "cell_type": "code",
   "execution_count": 19,
   "metadata": {},
   "outputs": [
    {
     "data": {
      "text/plain": [
       "(162, 24)"
      ]
     },
     "execution_count": 19,
     "metadata": {},
     "output_type": "execute_result"
    }
   ],
   "source": [
    "df_fea[df_fea.appIdAction.notna()].shape"
   ]
  },
  {
   "cell_type": "code",
   "execution_count": null,
   "metadata": {
    "collapsed": true
   },
   "outputs": [],
   "source": []
  }
 ],
 "metadata": {
  "kernelspec": {
   "display_name": "Python 3",
   "language": "python",
   "name": "python3"
  },
  "language_info": {
   "codemirror_mode": {
    "name": "ipython",
    "version": 3
   },
   "file_extension": ".py",
   "mimetype": "text/x-python",
   "name": "python",
   "nbconvert_exporter": "python",
   "pygments_lexer": "ipython3",
   "version": "3.6.4"
  }
 },
 "nbformat": 4,
 "nbformat_minor": 2
}
